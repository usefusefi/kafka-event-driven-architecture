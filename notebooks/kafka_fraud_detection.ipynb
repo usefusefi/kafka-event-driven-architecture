import json
from kafka import KafkaConsumer

# Consume transactions from Kafka in Jupyter Notebook
consumer = KafkaConsumer(
    'transaction-events',
    bootstrap_servers=['localhost:9092'],
    value_deserializer=lambda x: json.loads(x.decode('utf-8'))
)

for message in consumer:
    print(f"Received transaction: {message.value}")
